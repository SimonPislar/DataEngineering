{
 "cells": [
  {
   "cell_type": "code",
   "execution_count": null,
   "id": "initial_id",
   "metadata": {
    "collapsed": true
   },
   "outputs": [],
   "source": [
    "from pyspark.sql import SparkSession\n",
    "from pyspark.sql.functions import explode, split, lower\n",
    "\n",
    "spark_session = SparkSession\\\n",
    "        .builder\\\n",
    "        .master(\"spark://192.168.2.250:7077\") \\\n",
    "        .appName(\"Part_A_Simon_Pislar_A3\")\\\n",
    "        .config(\"spark.dynamicAllocation.enabled\", True)\\\n",
    "        .config(\"spark.dynamicAllocation.shuffleTracking.enabled\",True)\\\n",
    "        .config(\"spark.shuffle.service.enabled\", False)\\\n",
    "        .config(\"spark.dynamicAllocation.executorIdleTimeout\",\"30s\")\\\n",
    "        .config(\"spark.executor.cores\",2)\\\n",
    "        .config(\"spark.driver.port\",9999)\\\n",
    "        .config(\"spark.blockManager.port\",10005)\\\n",
    "        .getOrCreate()\n",
    "\n",
    "def to_lower_split(rdd, split_by_char):\n",
    "    \"\"\"\n",
    "    Lowercase the text and tokenize by splitting on space.\n",
    "    Returns a new RDD with preprocessed text.\n",
    "    \"\"\"\n",
    "    return rdd.map(lambda line: line.lower().split(split_by_char))\n",
    "\n",
    "# RDD  API\n",
    "spark_context = spark_session.sparkContext\n",
    "\n",
    "spark_context.setLogLevel(\"ERROR\")"
   ]
  },
  {
   "cell_type": "code",
   "execution_count": null,
   "outputs": [],
   "source": [
    "# A.1.1 Read the English transcripts with Spark, and count the number of lines\n",
    "# A.2.1 Pre-process the text from both RDDs\n",
    "path_to_english_transcripts = \"hdfs://192.168.2.250:9000/europarl/europarl-v7.sv-en.en\"\n",
    "english_transcripts_rdd = spark_context.textFile(path_to_english_transcripts)\n",
    "pre_processed_english_text = to_lower_split(english_transcripts_rdd, ' ')\n",
    "print(f\"Pre-process check: {pre_processed_english_text.take(10)}\")\n",
    "num_lines_sample = pre_processed_english_text.count()\n",
    "print(f\"Number of lines in the sample: {num_lines_sample}\")"
   ],
   "metadata": {
    "collapsed": false
   },
   "id": "2b65f20feba8f881"
  },
  {
   "cell_type": "code",
   "execution_count": null,
   "outputs": [],
   "source": [
    "# A.1.2 Do the same with the other language (so that you have a separate lineage of RDDs for\n",
    "# each).\n",
    "# A.2.1 Pre-process the text from both RDDs\n",
    "path_to_swedish_transcripts = \"hdfs://192.168.2.250:9000/europarl/europarl-v7.sv-en.sv\"\n",
    "swedish_transcripts_rdd = spark_context.textFile(path_to_swedish_transcripts)\n",
    "pre_processed_swedish_text = to_lower_split(swedish_transcripts_rdd, ' ')\n",
    "print(f\"Pre-process check: {pre_processed_swedish_text.take(10)}\")\n",
    "num_lines_sample = pre_processed_swedish_text.count()\n",
    "print(f\"Number of lines in the sample: {num_lines_sample}\")"
   ],
   "metadata": {
    "collapsed": false
   },
   "id": "573d83a7f89f54c2"
  },
  {
   "cell_type": "code",
   "execution_count": null,
   "outputs": [],
   "source": [
    "# A.1.4 Count the number of partitions.\n",
    "path_to_english_transcripts = \"hdfs://192.168.2.250:9000/europarl/europarl-v7.sv-en.en\"\n",
    "english_transcripts_rdd = spark_context.textFile(path_to_english_transcripts)\n",
    "num_partitions = english_transcripts_rdd.getNumPartitions()\n",
    "print(f\"Number of partitions: {num_partitions}\")"
   ],
   "metadata": {
    "collapsed": false
   },
   "id": "e014c6ff0199b0b5"
  },
  {
   "cell_type": "code",
   "execution_count": null,
   "outputs": [],
   "source": [
    "# A.3.1 Use Spark to compute the 10 most frequently according words in the English language\n",
    "# corpus. Repeat for the other language.\n",
    "flattened_pre_processed_english_text = pre_processed_english_text.flatMap(lambda x: x)\n",
    "english_word_tuples = flattened_pre_processed_english_text.map(lambda word: (word, 1))\n",
    "english_word_occurence = english_word_tuples.reduceByKey(lambda a, b: a + b)\n",
    "english_word_occurence_sorted = english_word_occurence.sortBy(lambda word_count: word_count[1], ascending=False)\n",
    "print(f\"Most used english words: {english_word_occurence_sorted.take(10)}\")"
   ],
   "metadata": {
    "collapsed": false
   },
   "id": "9c36e5965c40201a"
  },
  {
   "cell_type": "code",
   "execution_count": null,
   "outputs": [],
   "source": [
    "# A.3.1 Use Spark to compute the 10 most frequently according words in the English language\n",
    "# corpus. Repeat for the other language.\n",
    "flattened_pre_processed_swedish_text = pre_processed_swedish_text.flatMap(lambda x: x)\n",
    "swedish_word_tuples = flattened_pre_processed_swedish_text.map(lambda word: (word, 1))\n",
    "swedish_word_occurence = swedish_word_tuples.reduceByKey(lambda a, b: a + b)\n",
    "swedish_word_occurence_sorted = swedish_word_occurence.sortBy(lambda word_count: word_count[1], ascending=False)\n",
    "print(f\"Most used swedish words: {swedish_word_occurence_sorted.take(10)}\")"
   ],
   "metadata": {
    "collapsed": false
   },
   "id": "5264474d662d30f3"
  },
  {
   "cell_type": "code",
   "execution_count": null,
   "outputs": [],
   "source": [
    "# Assuming sv_RDD and en_RDD are your Swedish and English RDDs after preprocessing\n",
    "\n",
    "# 1. Key the lines by their line number\n",
    "sv_zipped = pre_processed_swedish_text.zipWithIndex().map(lambda x: (x[1], x[0]))\n",
    "en_zipped = pre_processed_english_text.zipWithIndex().map(lambda x: (x[1], x[0]))\n",
    "\n",
    "# 2. Swap the key and value\n",
    "sv_swapped = sv_zipped.map(lambda x: (x[1], x[0]))\n",
    "en_swapped = en_zipped.map(lambda x: (x[1], x[0]))\n",
    "\n",
    "# 3. Join the RDDs on the line number\n",
    "joined_RDD = sv_swapped.join(en_swapped)\n",
    "\n",
    "# 4. Filter to exclude line pairs with missing sentences\n",
    "filtered_missing = joined_RDD.filter(lambda x: x[1][0] is not None and x[1][1] is not None)\n",
    "\n",
    "# 5. Filter to leave only pairs of sentences with a small number of words per sentence\n",
    "# Here, let's define 'small' as less than or equal to 5 words.\n",
    "filtered_length = filtered_missing.filter(lambda x: len(x[1][0].split()) <= 5 and len(x[1][1].split()) <= 5)\n",
    "\n",
    "# 6. Filter to leave only pairs of sentences with the same number of words\n",
    "filtered_same_length = filtered_length.filter(lambda x: len(x[1][0].split()) == len(x[1][1].split()))\n",
    "\n",
    "# 7. For each sentence pair, map so that you pair each (in order) word in the two sentences\n",
    "word_pairs = filtered_same_length.flatMap(lambda x: zip(x[1][0].split(), x[1][1].split()))\n",
    "\n",
    "# Ensure that the word pairs are tuples (they should be by default using zip)\n",
    "word_pairs = word_pairs.map(lambda x: (tuple(x), 1))\n",
    "\n",
    "# 8. Use reduce to count the number of occurrences of the word-translation-pairs\n",
    "word_pair_counts = word_pairs.reduceByKey(lambda x, y: x + y)\n",
    "\n",
    "# 9. Print some of the most frequently occurring pairs of words\n",
    "top_word_pairs = word_pair_counts.takeOrdered(10, key=lambda x: -x[1])\n",
    "for pair in top_word_pairs:\n",
    "    print(f\"{pair[0][0]} - {pair[0][1]}: {pair[1]}\")\n"
   ],
   "metadata": {
    "collapsed": false
   },
   "id": "401f5364d5eae51d"
  },
  {
   "cell_type": "code",
   "execution_count": null,
   "outputs": [],
   "source": [
    "# Stop the spark context\n",
    "spark_context.stop()"
   ],
   "metadata": {
    "collapsed": false
   },
   "id": "925832cacb49c42e"
  }
 ],
 "metadata": {
  "kernelspec": {
   "display_name": "Python 3",
   "language": "python",
   "name": "python3"
  },
  "language_info": {
   "codemirror_mode": {
    "name": "ipython",
    "version": 2
   },
   "file_extension": ".py",
   "mimetype": "text/x-python",
   "name": "python",
   "nbconvert_exporter": "python",
   "pygments_lexer": "ipython2",
   "version": "2.7.6"
  }
 },
 "nbformat": 4,
 "nbformat_minor": 5
}
