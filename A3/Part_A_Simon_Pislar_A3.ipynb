{
 "cells": [
  {
   "cell_type": "code",
   "execution_count": 29,
   "id": "initial_id",
   "metadata": {},
   "outputs": [],
   "source": [
    "from pyspark.sql import SparkSession\n",
    "from pyspark.sql.functions import explode, split, lower\n",
    "\n",
    "spark_session = SparkSession\\\n",
    "        .builder\\\n",
    "        .master(\"spark://192.168.2.250:7077\") \\\n",
    "        .appName(\"Part_A_Simon_Pislar_A3\")\\\n",
    "        .config(\"spark.dynamicAllocation.enabled\", True)\\\n",
    "        .config(\"spark.dynamicAllocation.shuffleTracking.enabled\",True)\\\n",
    "        .config(\"spark.shuffle.service.enabled\", False)\\\n",
    "        .config(\"spark.dynamicAllocation.executorIdleTimeout\",\"30s\")\\\n",
    "        .config(\"spark.executor.cores\",2)\\\n",
    "        .config(\"spark.driver.port\",9999)\\\n",
    "        .config(\"spark.blockManager.port\",10005)\\\n",
    "        .getOrCreate()\n",
    "\n",
    "def to_lower_split(rdd, split_by_char):\n",
    "    \"\"\"\n",
    "    Lowercase the text and tokenize by splitting on space.\n",
    "    Returns a new RDD with preprocessed text.\n",
    "    \"\"\"\n",
    "    return rdd.map(lambda line: line.lower().split(split_by_char))\n",
    "\n",
    "# RDD  API\n",
    "spark_context = spark_session.sparkContext\n",
    "\n",
    "spark_context.setLogLevel(\"ERROR\")"
   ]
  },
  {
   "cell_type": "code",
   "execution_count": 30,
   "id": "2b65f20feba8f881",
   "metadata": {
    "collapsed": false,
    "jupyter": {
     "outputs_hidden": false
    }
   },
   "outputs": [
    {
     "name": "stderr",
     "output_type": "stream",
     "text": [
      "                                                                                \r"
     ]
    },
    {
     "name": "stdout",
     "output_type": "stream",
     "text": [
      "Pre-process check: [['resumption', 'of', 'the', 'session'], ['i', 'declare', 'resumed', 'the', 'session', 'of', 'the', 'european', 'parliament', 'adjourned', 'on', 'friday', '17', 'december', '1999,', 'and', 'i', 'would', 'like', 'once', 'again', 'to', 'wish', 'you', 'a', 'happy', 'new', 'year', 'in', 'the', 'hope', 'that', 'you', 'enjoyed', 'a', 'pleasant', 'festive', 'period.'], ['although,', 'as', 'you', 'will', 'have', 'seen,', 'the', 'dreaded', \"'millennium\", \"bug'\", 'failed', 'to', 'materialise,', 'still', 'the', 'people', 'in', 'a', 'number', 'of', 'countries', 'suffered', 'a', 'series', 'of', 'natural', 'disasters', 'that', 'truly', 'were', 'dreadful.'], ['you', 'have', 'requested', 'a', 'debate', 'on', 'this', 'subject', 'in', 'the', 'course', 'of', 'the', 'next', 'few', 'days,', 'during', 'this', 'part-session.'], ['in', 'the', 'meantime,', 'i', 'should', 'like', 'to', 'observe', 'a', \"minute'\", 's', 'silence,', 'as', 'a', 'number', 'of', 'members', 'have', 'requested,', 'on', 'behalf', 'of', 'all', 'the', 'victims', 'concerned,', 'particularly', 'those', 'of', 'the', 'terrible', 'storms,', 'in', 'the', 'various', 'countries', 'of', 'the', 'european', 'union.'], ['please', 'rise,', 'then,', 'for', 'this', \"minute'\", 's', 'silence.'], ['(the', 'house', 'rose', 'and', 'observed', 'a', \"minute'\", 's', 'silence)'], ['madam', 'president,', 'on', 'a', 'point', 'of', 'order.'], ['you', 'will', 'be', 'aware', 'from', 'the', 'press', 'and', 'television', 'that', 'there', 'have', 'been', 'a', 'number', 'of', 'bomb', 'explosions', 'and', 'killings', 'in', 'sri', 'lanka.'], ['one', 'of', 'the', 'people', 'assassinated', 'very', 'recently', 'in', 'sri', 'lanka', 'was', 'mr', 'kumar', 'ponnambalam,', 'who', 'had', 'visited', 'the', 'european', 'parliament', 'just', 'a', 'few', 'months', 'ago.']]\n"
     ]
    },
    {
     "name": "stderr",
     "output_type": "stream",
     "text": [
      "[Stage 13:=============================>                            (1 + 1) / 2]\r"
     ]
    },
    {
     "name": "stdout",
     "output_type": "stream",
     "text": [
      "Number of lines in the sample: 1862234\n"
     ]
    },
    {
     "name": "stderr",
     "output_type": "stream",
     "text": [
      "                                                                                \r"
     ]
    }
   ],
   "source": [
    "# A.1.1 Read the English transcripts with Spark, and count the number of lines\n",
    "# A.2.1 Pre-process the text from both RDDs\n",
    "path_to_english_transcripts = \"hdfs://192.168.2.250:9000/europarl/europarl-v7.sv-en.en\"\n",
    "english_transcripts_rdd = spark_context.textFile(path_to_english_transcripts)\n",
    "pre_processed_english_text = to_lower_split(english_transcripts_rdd, ' ')\n",
    "print(f\"Pre-process check: {pre_processed_english_text.take(10)}\")\n",
    "num_lines_sample = pre_processed_english_text.count()\n",
    "print(f\"Number of lines in the sample: {num_lines_sample}\")"
   ]
  },
  {
   "cell_type": "code",
   "execution_count": 31,
   "id": "573d83a7f89f54c2",
   "metadata": {
    "collapsed": false,
    "jupyter": {
     "outputs_hidden": false
    }
   },
   "outputs": [
    {
     "name": "stdout",
     "output_type": "stream",
     "text": [
      "Pre-process check: [['återupptagande', 'av', 'sessionen'], ['jag', 'förklarar', 'europaparlamentets', 'session', 'återupptagen', 'efter', 'avbrottet', 'den', '17', 'december.', 'jag', 'vill', 'på', 'nytt', 'önska', 'er', 'ett', 'gott', 'nytt', 'år', 'och', 'jag', 'hoppas', 'att', 'ni', 'haft', 'en', 'trevlig', 'semester.'], ['som', 'ni', 'kunnat', 'konstatera', 'ägde', '\"den', 'stora', 'år', '2000-buggen\"', 'aldrig', 'rum.', 'däremot', 'har', 'invånarna', 'i', 'ett', 'antal', 'av', 'våra', 'medlemsländer', 'drabbats', 'av', 'naturkatastrofer', 'som', 'verkligen', 'varit', 'förskräckliga.'], ['ni', 'har', 'begärt', 'en', 'debatt', 'i', 'ämnet', 'under', 'sammanträdesperiodens', 'kommande', 'dagar.'], ['till', 'dess', 'vill', 'jag', 'att', 'vi,', 'som', 'ett', 'antal', 'kolleger', 'begärt,', 'håller', 'en', 'tyst', 'minut', 'för', 'offren', 'för', 'bl.a.', 'stormarna', 'i', 'de', 'länder', 'i', 'europeiska', 'unionen', 'som', 'drabbats.'], ['jag', 'ber', 'er', 'resa', 'er', 'för', 'en', 'tyst', 'minut.'], ['(parlamentet', 'höll', 'en', 'tyst', 'minut.)'], ['fru', 'talman!', 'det', 'gäller', 'en', 'ordningsfråga.'], ['ni', 'känner', 'till', 'från', 'media', 'att', 'det', 'skett', 'en', 'rad', 'bombexplosioner', 'och', 'mord', 'i', 'sri', 'lanka.'], ['en', 'av', 'de', 'personer', 'som', 'mycket', 'nyligen', 'mördades', 'i', 'sri', 'lanka', 'var', 'kumar', 'ponnambalam,', 'som', 'besökte', 'europaparlamentet', 'för', 'bara', 'några', 'månader', 'sedan.']]\n"
     ]
    },
    {
     "name": "stderr",
     "output_type": "stream",
     "text": [
      "[Stage 15:===================>                                      (1 + 2) / 3]\r"
     ]
    },
    {
     "name": "stdout",
     "output_type": "stream",
     "text": [
      "Number of lines in the sample: 1862234\n"
     ]
    },
    {
     "name": "stderr",
     "output_type": "stream",
     "text": [
      "                                                                                \r"
     ]
    }
   ],
   "source": [
    "# A.1.2 Do the same with the other language (so that you have a separate lineage of RDDs for\n",
    "# each).\n",
    "# A.2.1 Pre-process the text from both RDDs\n",
    "path_to_swedish_transcripts = \"hdfs://192.168.2.250:9000/europarl/europarl-v7.sv-en.sv\"\n",
    "swedish_transcripts_rdd = spark_context.textFile(path_to_swedish_transcripts)\n",
    "pre_processed_swedish_text = to_lower_split(swedish_transcripts_rdd, ' ')\n",
    "print(f\"Pre-process check: {pre_processed_swedish_text.take(10)}\")\n",
    "num_lines_sample = pre_processed_swedish_text.count()\n",
    "print(f\"Number of lines in the sample: {num_lines_sample}\")"
   ]
  },
  {
   "cell_type": "code",
   "execution_count": 32,
   "id": "e014c6ff0199b0b5",
   "metadata": {
    "collapsed": false,
    "jupyter": {
     "outputs_hidden": false
    }
   },
   "outputs": [
    {
     "name": "stdout",
     "output_type": "stream",
     "text": [
      "Number of partitions: 2\n"
     ]
    }
   ],
   "source": [
    "# A.1.4 Count the number of partitions.\n",
    "path_to_english_transcripts = \"hdfs://192.168.2.250:9000/europarl/europarl-v7.sv-en.en\"\n",
    "english_transcripts_rdd = spark_context.textFile(path_to_english_transcripts)\n",
    "num_partitions = english_transcripts_rdd.getNumPartitions()\n",
    "print(f\"Number of partitions: {num_partitions}\")"
   ]
  },
  {
   "cell_type": "code",
   "execution_count": null,
   "id": "9c36e5965c40201a",
   "metadata": {
    "collapsed": false,
    "jupyter": {
     "outputs_hidden": false
    }
   },
   "outputs": [],
   "source": [
    "# A.3.1 Use Spark to compute the 10 most frequently according words in the English language\n",
    "# corpus. Repeat for the other language.\n",
    "flattened_pre_processed_english_text = pre_processed_english_text.flatMap(lambda x: x)\n",
    "english_word_tuples = flattened_pre_processed_english_text.map(lambda word: (word, 1))\n",
    "english_word_occurence = english_word_tuples.reduceByKey(lambda a, b: a + b)\n",
    "english_word_occurence_sorted = english_word_occurence.sortBy(lambda word_count: word_count[1], ascending=False)\n",
    "print(f\"Most used english words: {english_word_occurence_sorted.take(10)}\")"
   ]
  },
  {
   "cell_type": "code",
   "execution_count": null,
   "id": "5264474d662d30f3",
   "metadata": {
    "collapsed": false,
    "jupyter": {
     "outputs_hidden": false
    }
   },
   "outputs": [],
   "source": [
    "# A.3.1 Use Spark to compute the 10 most frequently according words in the English language\n",
    "# corpus. Repeat for the other language.\n",
    "flattened_pre_processed_swedish_text = pre_processed_swedish_text.flatMap(lambda x: x)\n",
    "swedish_word_tuples = flattened_pre_processed_swedish_text.map(lambda word: (word, 1))\n",
    "swedish_word_occurence = swedish_word_tuples.reduceByKey(lambda a, b: a + b)\n",
    "swedish_word_occurence_sorted = swedish_word_occurence.sortBy(lambda word_count: word_count[1], ascending=False)\n",
    "print(f\"Most used swedish words: {swedish_word_occurence_sorted.take(10)}\")"
   ]
  },
  {
   "cell_type": "code",
   "execution_count": 33,
   "id": "401f5364d5eae51d",
   "metadata": {
    "collapsed": false,
    "jupyter": {
     "outputs_hidden": false
    }
   },
   "outputs": [
    {
     "name": "stderr",
     "output_type": "stream",
     "text": [
      "[Stage 19:>                                                         (0 + 1) / 1]\r"
     ]
    },
    {
     "name": "stdout",
     "output_type": "stream",
     "text": [
      "Sample: [(865085, (['när', 'det', 'gäller', 'gilles', 'savarys', 'betänkande', 'gläder', 'det', 'mig', 'att', 'det', 'omfattar', 'arbetsmarknadens', 'parters', 'rättigheter', 'och', 'specifikationer', 'för', 'driftskompatibilitet.'], ['regarding', 'the', 'report', 'by', 'mr', 'savary,', 'i', 'am', 'pleased', 'that', 'it', 'includes', 'the', 'rights', 'of', 'the', 'social', 'partners', 'and', 'specifications', 'for', 'interoperability.'])), (865625, (['jag', 'menar', 'att', 'det', 'för', 'det', 'första', 'behöver', 'skapas', 'förutsättningar', 'för', 'en', 'stadig', 'utveckling', 'för', 'de', 'konkurrenskraftigaste', 'sockerproducenterna', 'i', 'gemenskapen', 'för', 'att', 'eu:s', 'produktion', 'ska', 'kunna', 'konkurrera', 'på', 'en', 'allt', 'öppnare', 'världsmarknad.'], ['what', 'i', 'think', 'is', 'needed', 'is,', 'firstly,', 'to', 'create', 'conditions', 'for', 'stable', 'development', 'for', 'the', 'most', 'competitive', 'sugar', 'producers', 'in', 'the', 'community,', 'to', 'enable', 'eu', 'production', 'to', 'compete', 'on', 'an', 'increasingly', 'open', 'world', 'market.'])), (866165, (['(de)', 'herr', 'talman!', 'först', 'av', 'allt', 'vill', 'jag', 'tacka', 'både', 'vice', 'ordförande', 'günter', 'verheugen', 'och', 'kommissionsledamot', 'meglena', 'kuneva', 'för', 'att', 'de', 'är', 'här', 'och', 'höjer', 'nivån', 'på', 'debatten.'], ['(de)', 'mr', 'president,', 'first', 'of', 'all,', 'thank', 'you', 'to', 'both', 'vice-president', 'verheugen', 'and', 'commissioner', 'kuneva', 'for', 'being', 'here', 'and', 'enhancing', 'the', 'debate.'])), (867525, (['talar', 'vi', 'om', 'utbyte', 'av', 'erfarenheter?'], ['are', 'we', 'talking', 'about', 'an', 'exchange', 'of', 'experience?'])), (868600, (['av', 'den', 'anledningen', 'måste', 'vi,', 'tillsammans', 'med', 'rådet,', 'hitta', 'ett', 'annat', 'sätt', 'att', 'finansiera', 'projektet.'], ['for', 'this', 'reason,', 'together', 'with', 'the', 'council,', 'we', 'must', 'find', 'another', 'financing', 'formula', 'for', 'this', 'project.'])), (869295, (['den', 'övergripande', 'strategin', 'för', 'migration,', 'som', 'antogs', 'vid', 'europeiska', 'rådets', 'möte', 'i', 'december', '2005,', 'utgör', 'fortfarande', 'den', 'grundläggande', 'ramen', 'för', 'att', 'fastställa', 'svaret', 'på', 'dessa', 'utmaningar.'], ['the', 'global', 'approach', 'to', 'migration,', 'which', 'was', 'adopted', 'by', 'the', 'european', 'council', 'in', 'december', '2005,', 'still', 'forms', 'the', 'basic', 'framework', 'for', 'defining', 'the', 'response', 'to', 'these', 'challenges.'])), (870280, (['farliga', 'leksaker', 'tillverkade', 'i', 'kina', '(omröstning)'], ['dangerous', 'toys', 'made', 'in', 'china', '(vote)'])), (870500, (['skriftlig.', '-', '(pt)', 'jag', 'röstade', 'för', 'förslaget', 'till', 'resolution', 'om', '”farliga', 'leksaker', 'tillverkade', 'i', 'kina”,', 'eftersom', 'jag', 'anser', 'att', 'det', 'är', 'av', 'avgörande', 'betydelse', 'att', 'vidta', 'nödvändiga', 'rättsliga', 'och', 'administrativa', 'åtgärder', 'för', 'att', 'se', 'till', 'att', 'konsumentvaror', 'som', 'säljs', 'inom', 'eu', 'följer', 'de', 'befintliga', 'gemenskapsnormerna', 'helt', 'och', 'inte', 'riskerar', 'konsumenternas', 'hälsa', 'och', 'säkerhet.'], ['in', 'writing.', '-', '(pt)', 'i', 'voted', 'in', 'favour', 'of', 'the', 'motion', 'for', 'a', 'resolution', 'on', \"'dangerous\", 'toys', 'made', 'in', \"china'\", 'because', 'i', 'consider', 'it', 'essential', 'to', 'take', 'all', 'necessary', 'legislative', 'and', 'administrative', 'action', 'to', 'ensure', 'that', 'consumer', 'goods', 'that', 'are', 'marketed', 'within', 'the', 'eu', 'not', 'only', 'comply', 'fully', 'with', 'existing', 'eu', 'standards', 'but', 'also', 'do', 'not', 'put', 'the', 'health', 'and', 'safety', 'of', 'consumers', 'at', 'risk.'])), (871040, (['jag', 'är', 'mycket', 'nöjd', 'med', 'kommissionens', 'tillkännagivande', 'här', 'om', 'vad', 'som', 'kan', 'göras', 'för', 'att', 'förhindra', 'att', 'flygplan', 'med', 'personer', 'som', 'på', 'olagligt', 'sätt', 'transporteras', 'någon', 'annanstans', 'landar', 'på', 'europeiska', 'flygplatser', 'i', 'framtiden.', 'vi', 'måste', 'ha', 'ett', 'kontrollsystem', 'för', 'dessa', 'så', 'kallade', '”statsluftfartyg”.'], ['i', 'am', 'very', 'pleased', 'indeed', 'with', 'the', \"commissioner's\", 'announcement', 'just', 'now', 'about', 'what', 'can', 'be', 'done', 'to', 'prevent', 'aircraft', 'landing', 'at', 'european', 'airports', 'in', 'the', 'future,', 'which', 'are', 'carrying', 'people', 'to', 'be', 'transported', 'elsewhere', 'unlawfully;', 'we', 'have', 'to', 'have', 'a', 'system', 'of', 'control', 'for', 'these', 'so-called', \"'state\", \"aircraft'.\"])), (872270, (['vad', 'vi', 'än', 'säger', 'är', 'konsumenternas', 'förtroende', 'för', 'att', 'använda', 'dessa', 'tjänster', 'fortfarande', 'inte', 'tillräckligt', 'stort.'], ['whatever', 'we', 'say,', 'consumers', 'still', 'are', 'not', 'confident', 'enough', 'to', 'use', 'those', 'services.']))]\n"
     ]
    },
    {
     "name": "stderr",
     "output_type": "stream",
     "text": [
      "                                                                                \r"
     ]
    }
   ],
   "source": [
    "zipped_english_text = pre_processed_english_text.zipWithIndex()\n",
    "zipped_swedish_text = pre_processed_swedish_text.zipWithIndex()\n",
    "swapped_key_value_english = zipped_english_text.map(lambda x: (x[1], x[0]))\n",
    "swapped_key_value_swedish = zipped_swedish_text.map(lambda x: (x[1], x[0]))\n",
    "joined_swedish_english = swapped_key_value_swedish.join(swapped_key_value_english)\n",
    "\n",
    "# TODO: Fix filtering function- Filters too much, nothing gets through!\n",
    "filter_structure_swedish_english = joined_swedish_english.filter(lambda x: all(x[1]))\n",
    "\n",
    "print(f\"Sample: {joined_swedish_english.take(10)}\")"
   ]
  },
  {
   "cell_type": "code",
   "execution_count": 34,
   "id": "3ea625f70e64a96f",
   "metadata": {
    "collapsed": false,
    "jupyter": {
     "outputs_hidden": false
    }
   },
   "outputs": [
    {
     "name": "stderr",
     "output_type": "stream",
     "text": [
      "[Stage 21:>                                                         (0 + 1) / 1]\r"
     ]
    },
    {
     "name": "stdout",
     "output_type": "stream",
     "text": [
      "Sample: [(46070, (['det', 'gäller', 'framtiden.'], ['that', 'is', 'for', 'the', 'future.'])), (127055, (['jag', 'förklarar', 'debatten', 'avslutad.'], ['the', 'debate', 'is', 'closed.'])), (151865, (['ingen!'], ['no', 'one', 'could', 'say!'])), (199480, (['tack', 'så', 'mycket,', 'fru', 'kommissionär!'], ['thank', 'you,', 'commissioner.'])), (200945, (['.'], [''])), (253975, (['det', 'är', 'år', '1995.'], ['this', 'happened', 'in', '1995.'])), (281930, (['detta', 'får', 'inte', 'fortsätta.'], ['that', 'must', 'not', 'continue.'])), (304735, (['före', 'omröstningen:'], ['before', 'the', 'vote:'])), (320680, (['det', 'var', 'en', 'sidoanmärkning.'], ['that', 'was', 'an', 'aside.'])), (352995, (['så', 'ser', 'verkligheten', 'ut.'], ['that', 'is', 'the', 'reality.']))]\n"
     ]
    },
    {
     "name": "stderr",
     "output_type": "stream",
     "text": [
      "                                                                                \r"
     ]
    }
   ],
   "source": [
    "# Step 5: Filter to leave only pairs of sentences with a small number of words per sentence.\n",
    "filter_small_words_swedish_english = filter_structure_swedish_english.filter(\n",
    "    lambda x: len(x[1][0]) <= 5 and len(x[1][1]) <= 5\n",
    ")\n",
    "\n",
    "print(f\"Sample: {filter_small_words_swedish_english.take(10)}\")\n",
    "# Step 6: Since the data is already in the correct form (lists of words), we don't need to do anything here."
   ]
  },
  {
   "cell_type": "code",
   "execution_count": 35,
   "id": "afc29d5d-faba-4bb5-81f7-08f48e580350",
   "metadata": {},
   "outputs": [
    {
     "name": "stderr",
     "output_type": "stream",
     "text": [
      "[Stage 23:>                                                         (0 + 1) / 1]\r"
     ]
    },
    {
     "name": "stdout",
     "output_type": "stream",
     "text": [
      "Sample: [('.', ''), ('det', 'that'), ('är', 'is'), ('idrott.', 'sport.'), ('\\xa0\\xa0', '\\xa0\\xa0'), ('–', '\\xa0the'), ('debatten', 'debate'), ('är', 'is'), ('avslutad.', 'closed.'), ('rådets', 'president-in-office')]\n"
     ]
    },
    {
     "name": "stderr",
     "output_type": "stream",
     "text": [
      "                                                                                \r"
     ]
    }
   ],
   "source": [
    "# Step 7: For each sentence pair, pair each word with its translation.\n",
    "word_pairs = filter_small_words_swedish_english.flatMap(\n",
    "    lambda x: zip(x[1][0], x[1][1])\n",
    ")\n",
    "print(f\"Sample: {word_pairs.take(10)}\")"
   ]
  },
  {
   "cell_type": "code",
   "execution_count": 37,
   "id": "2bd5abb5-7996-4a3d-9f6e-dbc41bd117bf",
   "metadata": {},
   "outputs": [
    {
     "name": "stderr",
     "output_type": "stream",
     "text": [
      "[Stage 25:==============================================>           (4 + 1) / 5]\r"
     ]
    },
    {
     "name": "stdout",
     "output_type": "stream",
     "text": [
      "Sample: [(('det', 'that'), 2168), (('är', 'is'), 6057), (('råder', 'do'), 1), (('(parlamentet', '(parliament'), 1159), (('hänt?', 'since?'), 1), (('detta', 'all'), 9), (('emot', 'against'), 38), (('rekommendationen)', 'the'), 1), (('tack,', 'thank'), 1024), (('så', 'you,'), 516)]\n"
     ]
    },
    {
     "name": "stderr",
     "output_type": "stream",
     "text": [
      "                                                                                \r"
     ]
    }
   ],
   "source": [
    "# Step 8: Use reduce to count the number of occurrences of each word-translation pair.\n",
    "from operator import add\n",
    "\n",
    "word_pair_counts = word_pairs.map(lambda x: (x, 1)).reduceByKey(add)\n",
    "print(f\"Sample: {word_pair_counts.take(10)}\")"
   ]
  },
  {
   "cell_type": "code",
   "execution_count": 38,
   "id": "4e184c6b-e83c-4100-b1a2-c31a365573a8",
   "metadata": {},
   "outputs": [
    {
     "name": "stdout",
     "output_type": "stream",
     "text": [
      "Most Frequent Pairs: [(('är', 'is'), 6057), (('.', '.'), 3976), (('\\xa0\\xa0', '\\xa0\\xa0'), 3792), (('avslutad.', 'closed.'), 2951), (('(applåder)', '(applause)'), 2546), (('vi', 'we'), 2227), (('.', ''), 2223), (('debatten', 'the'), 2194), (('är', 'debate'), 2172), (('det', 'that'), 2168)]\n"
     ]
    }
   ],
   "source": [
    "# Step 9: Print some of the most frequently occurring pairs of words.\n",
    "most_frequent_pairs = word_pair_counts.takeOrdered(10, key=lambda x: -x[1])\n",
    "print(f\"Most Frequent Pairs: {most_frequent_pairs}\")"
   ]
  },
  {
   "cell_type": "code",
   "execution_count": 39,
   "id": "925832cacb49c42e",
   "metadata": {
    "collapsed": false,
    "jupyter": {
     "outputs_hidden": false
    }
   },
   "outputs": [],
   "source": [
    "# Stop the spark context\n",
    "spark_context.stop()"
   ]
  },
  {
   "cell_type": "code",
   "execution_count": null,
   "id": "9b65646a-ef2d-4035-b57b-d544ea4af0cf",
   "metadata": {},
   "outputs": [],
   "source": []
  }
 ],
 "metadata": {
  "kernelspec": {
   "display_name": "Python 3 (ipykernel)",
   "language": "python",
   "name": "python3"
  },
  "language_info": {
   "codemirror_mode": {
    "name": "ipython",
    "version": 3
   },
   "file_extension": ".py",
   "mimetype": "text/x-python",
   "name": "python",
   "nbconvert_exporter": "python",
   "pygments_lexer": "ipython3",
   "version": "3.8.10"
  }
 },
 "nbformat": 4,
 "nbformat_minor": 5
}
