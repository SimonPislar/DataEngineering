{
 "cells": [
  {
   "cell_type": "code",
   "execution_count": null,
   "id": "initial_id",
   "metadata": {
    "collapsed": true
   },
   "outputs": [],
   "source": [
    "from pyspark.sql import SparkSession\n",
    "from pyspark.sql.functions import explode, split, lower\n",
    "\n",
    "spark_session = SparkSession\\\n",
    "        .builder\\\n",
    "        .master(\"spark://192.168.2.250:7077\") \\\n",
    "        .appName(\"Part_A_Simon_Pislar_A3\")\\\n",
    "        .config(\"spark.dynamicAllocation.enabled\", True)\\\n",
    "        .config(\"spark.dynamicAllocation.shuffleTracking.enabled\",True)\\\n",
    "        .config(\"spark.shuffle.service.enabled\", False)\\\n",
    "        .config(\"spark.dynamicAllocation.executorIdleTimeout\",\"30s\")\\\n",
    "        .config(\"spark.executor.cores\",2)\\\n",
    "        .config(\"spark.driver.port\",9999)\\\n",
    "        .config(\"spark.blockManager.port\",10005)\\\n",
    "        .getOrCreate()\n",
    "\n",
    "def to_lower_split(rdd, split_by_char):\n",
    "    \"\"\"\n",
    "    Lowercase the text and tokenize by splitting on space.\n",
    "    Returns a new RDD with preprocessed text.\n",
    "    \"\"\"\n",
    "    return rdd.map(lambda line: line.lower().split(split_by_char))\n",
    "\n",
    "# RDD  API\n",
    "spark_context = spark_session.sparkContext\n",
    "\n",
    "spark_context.setLogLevel(\"ERROR\")"
   ]
  },
  {
   "cell_type": "code",
   "execution_count": null,
   "outputs": [],
   "source": [
    "# A.1.1 Read the English transcripts with Spark, and count the number of lines\n",
    "# A.2.1 Pre-process the text from both RDDs\n",
    "path_to_english_transcripts = \"hdfs://192.168.2.250:9000/europarl/europarl-v7.sv-en.en\"\n",
    "english_transcripts_rdd = spark_context.textFile(path_to_english_transcripts)\n",
    "pre_processed_english_text = to_lower_split(english_transcripts_rdd, ' ')\n",
    "print(f\"Pre-process check: {pre_processed_english_text.take(10)}\")\n",
    "num_lines_sample = pre_processed_english_text.count()\n",
    "print(f\"Number of lines in the sample: {num_lines_sample}\")"
   ],
   "metadata": {
    "collapsed": false
   },
   "id": "2b65f20feba8f881"
  },
  {
   "cell_type": "code",
   "execution_count": null,
   "outputs": [],
   "source": [
    "# A.1.2 Do the same with the other language (so that you have a separate lineage of RDDs for\n",
    "# each).\n",
    "# A.2.1 Pre-process the text from both RDDs\n",
    "path_to_swedish_transcripts = \"hdfs://192.168.2.250:9000/europarl/europarl-v7.sv-en.sv\"\n",
    "swedish_transcripts_rdd = spark_context.textFile(path_to_swedish_transcripts)\n",
    "pre_processed_swedish_text = to_lower_split(swedish_transcripts_rdd, ' ')\n",
    "print(f\"Pre-process check: {pre_processed_swedish_text.take(10)}\")\n",
    "num_lines_sample = pre_processed_swedish_text.count()\n",
    "print(f\"Number of lines in the sample: {num_lines_sample}\")"
   ],
   "metadata": {
    "collapsed": false
   },
   "id": "573d83a7f89f54c2"
  },
  {
   "cell_type": "code",
   "execution_count": null,
   "outputs": [],
   "source": [
    "# A.1.4 Count the number of partitions.\n",
    "path_to_english_transcripts = \"hdfs://192.168.2.250:9000/europarl/europarl-v7.sv-en.en\"\n",
    "english_transcripts_rdd = spark_context.textFile(path_to_english_transcripts)\n",
    "num_partitions = english_transcripts_rdd.getNumPartitions()\n",
    "print(f\"Number of partitions: {num_partitions}\")"
   ],
   "metadata": {
    "collapsed": false
   },
   "id": "e014c6ff0199b0b5"
  },
  {
   "cell_type": "code",
   "execution_count": null,
   "outputs": [],
   "source": [
    "# A.3.1 Use Spark to compute the 10 most frequently according words in the English language\n",
    "# corpus. Repeat for the other language.\n",
    "flattened_pre_processed_english_text = pre_processed_english_text.flatMap(lambda x: x)\n",
    "english_word_tuples = flattened_pre_processed_english_text.map(lambda word: (word, 1))\n",
    "english_word_occurence = english_word_tuples.reduceByKey(lambda a, b: a + b)\n",
    "english_word_occurence_sorted = english_word_occurence.sortBy(lambda word_count: word_count[1], ascending=False)\n",
    "print(f\"Most used english words: {english_word_occurence_sorted.take(10)}\")"
   ],
   "metadata": {
    "collapsed": false
   },
   "id": "9c36e5965c40201a"
  },
  {
   "cell_type": "code",
   "execution_count": null,
   "outputs": [],
   "source": [
    "# A.3.1 Use Spark to compute the 10 most frequently according words in the English language\n",
    "# corpus. Repeat for the other language.\n",
    "flattened_pre_processed_swedish_text = pre_processed_swedish_text.flatMap(lambda x: x)\n",
    "swedish_word_tuples = flattened_pre_processed_swedish_text.map(lambda word: (word, 1))\n",
    "swedish_word_occurence = swedish_word_tuples.reduceByKey(lambda a, b: a + b)\n",
    "swedish_word_occurence_sorted = swedish_word_occurence.sortBy(lambda word_count: word_count[1], ascending=False)\n",
    "print(f\"Most used swedish words: {swedish_word_occurence_sorted.take(10)}\")"
   ],
   "metadata": {
    "collapsed": false
   },
   "id": "5264474d662d30f3"
  },
  {
   "cell_type": "code",
   "execution_count": null,
   "outputs": [],
   "source": [
    "zipped_english_text = pre_processed_english_text.zipWithIndex()\n",
    "zipped_swedish_text = pre_processed_swedish_text.zipWithIndex()\n",
    "swapped_key_value_english = zipped_english_text.map(lambda x: (x[1], x[0]))\n",
    "swapped_key_value_swedish = zipped_swedish_text.map(lambda x: (x[1], x[0]))\n",
    "joined_swedish_english = swapped_key_value_swedish.join(swapped_key_value_english)\n",
    "\n",
    "# TODO: Fix filtering function- Filters too much, nothing gets through!\n",
    "filter_structure_swedish_english = joined_swedish_english.filter(lambda x: all(x[1]))\n",
    "\n",
    "print(f\"Sample: {joined_swedish_english.take(10)}\")"
   ],
   "metadata": {
    "collapsed": false
   },
   "id": "401f5364d5eae51d"
  },
  {
   "cell_type": "code",
   "execution_count": null,
   "outputs": [],
   "source": [
    "filter_small_words_swedish_english = filter_structure_swedish_english.filter(lambda x: len(x[1][0].split()) <= 5 and len(x[1][1].split()) <= 5)"
   ],
   "metadata": {
    "collapsed": false
   },
   "id": "728a56a1af6e9279"
  },
  {
   "cell_type": "code",
   "execution_count": null,
   "outputs": [],
   "source": [
    "filter_same_length_english_swedish = filter_small_words_swedish_english.filter(lambda x: len(x[1][0].split()) == len(x[1][1].split()))"
   ],
   "metadata": {
    "collapsed": false
   },
   "id": "8fdb88c5b6489823"
  },
  {
   "cell_type": "code",
   "execution_count": null,
   "outputs": [],
   "source": [
    "pair_of_words = filter_same_length_english_swedish.flatMap(lambda x: zip(x[1][0].split(), x[1][1].split()))"
   ],
   "metadata": {
    "collapsed": false
   },
   "id": "88b882b5ab27ff4c"
  },
  {
   "cell_type": "code",
   "execution_count": null,
   "outputs": [],
   "source": [
    "# Stop the spark context\n",
    "spark_context.stop()"
   ],
   "metadata": {
    "collapsed": false
   },
   "id": "925832cacb49c42e"
  }
 ],
 "metadata": {
  "kernelspec": {
   "display_name": "Python 3",
   "language": "python",
   "name": "python3"
  },
  "language_info": {
   "codemirror_mode": {
    "name": "ipython",
    "version": 2
   },
   "file_extension": ".py",
   "mimetype": "text/x-python",
   "name": "python",
   "nbconvert_exporter": "python",
   "pygments_lexer": "ipython2",
   "version": "2.7.6"
  }
 },
 "nbformat": 4,
 "nbformat_minor": 5
}
